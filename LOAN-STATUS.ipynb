{
 "cells": [
  {
   "cell_type": "markdown",
   "metadata": {},
   "source": [
    "LOAN PREDICTION - BINARY CLASSIFICATION\n",
    "\n",
    "Dataset Information\n",
    "\n",
    "Dream Housing Finance company deals in all home loans. They have presence across all urban, semi urban and rural areas. Customer first apply for home loan after that company validates the customer eligibility for loan. Company wants to automate the loan eligibility process (real time) based on customer detail provided while filling online application form. These details are Gender, Marital Status, Education, Number of Dependents, Income, Loan Amount, Credit History and others. To automate this process, they have given a problem to identify the customers segments, those are eligible for loan amount so that they can specifically target these customers.\n",
    "\n",
    "This is a standard supervised classification task.A classification problem where we have to predict whether a loan would be approved or not. Below is the dataset attributes with description.\n",
    "\n",
    "Variable Description\n",
    "\n",
    "Loan_ID Unique Loan ID Gender Male/ Female Married Applicant married (Y/N) Dependents Number of dependents Education Applicant Education (Graduate/ Under Graduate) Self_Employed Self employed (Y/N) ApplicantIncome Applicant income CoapplicantIncome Coapplicant income LoanAmount Loan amount in thousands Loan_Amount_Term Term of loan in months Credit_History credit history meets guidelines Property_Area Urban/ Semi Urban/ Rural Loan_Status Loan approved (Y/N)"
   ]
  },
  {
   "cell_type": "code",
   "execution_count": 1,
   "metadata": {},
   "outputs": [],
   "source": [
    "#Libraries \n",
    "import pandas as pd\n",
    "import numpy as np\n",
    "import matplotlib.pyplot as plt\n",
    "%matplotlib inline \n",
    "from pandas_profiling import ProfileReport\n",
    "import seaborn as sns\n",
    "import pickle"
   ]
  },
  {
   "cell_type": "code",
   "execution_count": 2,
   "metadata": {},
   "outputs": [],
   "source": [
    "data=pd.read_csv(\"loan_data_set.csv\")"
   ]
  },
  {
   "cell_type": "code",
   "execution_count": 3,
   "metadata": {},
   "outputs": [
    {
     "data": {
      "text/html": [
       "<div>\n",
       "<style scoped>\n",
       "    .dataframe tbody tr th:only-of-type {\n",
       "        vertical-align: middle;\n",
       "    }\n",
       "\n",
       "    .dataframe tbody tr th {\n",
       "        vertical-align: top;\n",
       "    }\n",
       "\n",
       "    .dataframe thead th {\n",
       "        text-align: right;\n",
       "    }\n",
       "</style>\n",
       "<table border=\"1\" class=\"dataframe\">\n",
       "  <thead>\n",
       "    <tr style=\"text-align: right;\">\n",
       "      <th></th>\n",
       "      <th>Loan_ID</th>\n",
       "      <th>Gender</th>\n",
       "      <th>Married</th>\n",
       "      <th>Dependents</th>\n",
       "      <th>Education</th>\n",
       "      <th>Self_Employed</th>\n",
       "      <th>ApplicantIncome</th>\n",
       "      <th>CoapplicantIncome</th>\n",
       "      <th>LoanAmount</th>\n",
       "      <th>Loan_Amount_Term</th>\n",
       "      <th>Credit_History</th>\n",
       "      <th>Property_Area</th>\n",
       "      <th>Loan_Status</th>\n",
       "    </tr>\n",
       "  </thead>\n",
       "  <tbody>\n",
       "    <tr>\n",
       "      <th>0</th>\n",
       "      <td>LP001002</td>\n",
       "      <td>Male</td>\n",
       "      <td>No</td>\n",
       "      <td>0</td>\n",
       "      <td>Graduate</td>\n",
       "      <td>No</td>\n",
       "      <td>5849</td>\n",
       "      <td>0.0</td>\n",
       "      <td>NaN</td>\n",
       "      <td>360.0</td>\n",
       "      <td>1.0</td>\n",
       "      <td>Urban</td>\n",
       "      <td>Y</td>\n",
       "    </tr>\n",
       "    <tr>\n",
       "      <th>1</th>\n",
       "      <td>LP001003</td>\n",
       "      <td>Male</td>\n",
       "      <td>Yes</td>\n",
       "      <td>1</td>\n",
       "      <td>Graduate</td>\n",
       "      <td>No</td>\n",
       "      <td>4583</td>\n",
       "      <td>1508.0</td>\n",
       "      <td>128.0</td>\n",
       "      <td>360.0</td>\n",
       "      <td>1.0</td>\n",
       "      <td>Rural</td>\n",
       "      <td>N</td>\n",
       "    </tr>\n",
       "    <tr>\n",
       "      <th>2</th>\n",
       "      <td>LP001005</td>\n",
       "      <td>Male</td>\n",
       "      <td>Yes</td>\n",
       "      <td>0</td>\n",
       "      <td>Graduate</td>\n",
       "      <td>Yes</td>\n",
       "      <td>3000</td>\n",
       "      <td>0.0</td>\n",
       "      <td>66.0</td>\n",
       "      <td>360.0</td>\n",
       "      <td>1.0</td>\n",
       "      <td>Urban</td>\n",
       "      <td>Y</td>\n",
       "    </tr>\n",
       "    <tr>\n",
       "      <th>3</th>\n",
       "      <td>LP001006</td>\n",
       "      <td>Male</td>\n",
       "      <td>Yes</td>\n",
       "      <td>0</td>\n",
       "      <td>Not Graduate</td>\n",
       "      <td>No</td>\n",
       "      <td>2583</td>\n",
       "      <td>2358.0</td>\n",
       "      <td>120.0</td>\n",
       "      <td>360.0</td>\n",
       "      <td>1.0</td>\n",
       "      <td>Urban</td>\n",
       "      <td>Y</td>\n",
       "    </tr>\n",
       "    <tr>\n",
       "      <th>4</th>\n",
       "      <td>LP001008</td>\n",
       "      <td>Male</td>\n",
       "      <td>No</td>\n",
       "      <td>0</td>\n",
       "      <td>Graduate</td>\n",
       "      <td>No</td>\n",
       "      <td>6000</td>\n",
       "      <td>0.0</td>\n",
       "      <td>141.0</td>\n",
       "      <td>360.0</td>\n",
       "      <td>1.0</td>\n",
       "      <td>Urban</td>\n",
       "      <td>Y</td>\n",
       "    </tr>\n",
       "  </tbody>\n",
       "</table>\n",
       "</div>"
      ],
      "text/plain": [
       "    Loan_ID Gender Married Dependents     Education Self_Employed  \\\n",
       "0  LP001002   Male      No          0      Graduate            No   \n",
       "1  LP001003   Male     Yes          1      Graduate            No   \n",
       "2  LP001005   Male     Yes          0      Graduate           Yes   \n",
       "3  LP001006   Male     Yes          0  Not Graduate            No   \n",
       "4  LP001008   Male      No          0      Graduate            No   \n",
       "\n",
       "   ApplicantIncome  CoapplicantIncome  LoanAmount  Loan_Amount_Term  \\\n",
       "0             5849                0.0         NaN             360.0   \n",
       "1             4583             1508.0       128.0             360.0   \n",
       "2             3000                0.0        66.0             360.0   \n",
       "3             2583             2358.0       120.0             360.0   \n",
       "4             6000                0.0       141.0             360.0   \n",
       "\n",
       "   Credit_History Property_Area Loan_Status  \n",
       "0             1.0         Urban           Y  \n",
       "1             1.0         Rural           N  \n",
       "2             1.0         Urban           Y  \n",
       "3             1.0         Urban           Y  \n",
       "4             1.0         Urban           Y  "
      ]
     },
     "execution_count": 3,
     "metadata": {},
     "output_type": "execute_result"
    }
   ],
   "source": [
    "data.head()"
   ]
  },
  {
   "cell_type": "code",
   "execution_count": 4,
   "metadata": {},
   "outputs": [
    {
     "name": "stdout",
     "output_type": "stream",
     "text": [
      "<class 'pandas.core.frame.DataFrame'>\n",
      "RangeIndex: 614 entries, 0 to 613\n",
      "Data columns (total 13 columns):\n",
      " #   Column             Non-Null Count  Dtype  \n",
      "---  ------             --------------  -----  \n",
      " 0   Loan_ID            614 non-null    object \n",
      " 1   Gender             601 non-null    object \n",
      " 2   Married            611 non-null    object \n",
      " 3   Dependents         599 non-null    object \n",
      " 4   Education          614 non-null    object \n",
      " 5   Self_Employed      582 non-null    object \n",
      " 6   ApplicantIncome    614 non-null    int64  \n",
      " 7   CoapplicantIncome  614 non-null    float64\n",
      " 8   LoanAmount         592 non-null    float64\n",
      " 9   Loan_Amount_Term   600 non-null    float64\n",
      " 10  Credit_History     564 non-null    float64\n",
      " 11  Property_Area      614 non-null    object \n",
      " 12  Loan_Status        614 non-null    object \n",
      "dtypes: float64(4), int64(1), object(8)\n",
      "memory usage: 62.5+ KB\n"
     ]
    }
   ],
   "source": [
    "data.info()"
   ]
  },
  {
   "cell_type": "markdown",
   "metadata": {},
   "source": [
    "DATA PREPROCESSING\n",
    "\n",
    "cleaning and filling in the missing values."
   ]
  },
  {
   "cell_type": "code",
   "execution_count": 5,
   "metadata": {},
   "outputs": [
    {
     "data": {
      "text/plain": [
       "Loan_ID               0\n",
       "Gender               13\n",
       "Married               3\n",
       "Dependents           15\n",
       "Education             0\n",
       "Self_Employed        32\n",
       "ApplicantIncome       0\n",
       "CoapplicantIncome     0\n",
       "LoanAmount           22\n",
       "Loan_Amount_Term     14\n",
       "Credit_History       50\n",
       "Property_Area         0\n",
       "Loan_Status           0\n",
       "dtype: int64"
      ]
     },
     "execution_count": 5,
     "metadata": {},
     "output_type": "execute_result"
    }
   ],
   "source": [
    "#checking for missing values in the dataset\n",
    "data.apply(lambda x:sum(x.isnull()), axis=0)"
   ]
  },
  {
   "cell_type": "code",
   "execution_count": 6,
   "metadata": {},
   "outputs": [
    {
     "data": {
      "text/plain": [
       "Married             0.004886\n",
       "Gender              0.021173\n",
       "Loan_Amount_Term    0.022801\n",
       "Dependents          0.024430\n",
       "LoanAmount          0.035831\n",
       "Self_Employed       0.052117\n",
       "Credit_History      0.081433\n",
       "dtype: float64"
      ]
     },
     "execution_count": 6,
     "metadata": {},
     "output_type": "execute_result"
    }
   ],
   "source": [
    "#The percentage of missing values in the columns\n",
    "missing = data.isnull().sum()/len(data)\n",
    "missing = missing[missing > 0]\n",
    "missing.sort_values(inplace=True)\n",
    "\n",
    "missing"
   ]
  },
  {
   "cell_type": "code",
   "execution_count": 7,
   "metadata": {},
   "outputs": [],
   "source": [
    "#FILLING IN THE MISSING VALUES IN THE NUMERIC DATA WITH THE MEAN\n",
    "data[\"LoanAmount\"]=data[\"LoanAmount\"].fillna(data[\"LoanAmount\"].mean())\n",
    "data[\"Loan_Amount_Term\"]=data[\"Loan_Amount_Term\"].fillna(data[\"Loan_Amount_Term\"].mean())\n",
    "data[\"CoapplicantIncome\"]=data[\"CoapplicantIncome\"].fillna(data[\"CoapplicantIncome\"].mean())\n",
    "data[\"Credit_History\"]=data[\"Credit_History\"].fillna(data[\"Credit_History\"].mean())"
   ]
  },
  {
   "cell_type": "code",
   "execution_count": 8,
   "metadata": {},
   "outputs": [],
   "source": [
    "#FILLING IN THE MISSING VALUES IN THE CATEGORICAL DATA WITH THE MODE\n",
    "data[\"Married\"]=data[\"Married\"].fillna(data[\"Married\"].mode()[0])\n",
    "data[\"Gender\"]=data[\"Gender\"].fillna(data[\"Gender\"].mode()[0])\n",
    "data[\"Dependents\"]=data[\"Dependents\"].fillna(data[\"Dependents\"].mode()[0])\n",
    "data[\"Self_Employed\"]=data[\"Self_Employed\"].fillna(data[\"Self_Employed\"].mode()[0])"
   ]
  },
  {
   "cell_type": "code",
   "execution_count": 9,
   "metadata": {},
   "outputs": [
    {
     "data": {
      "text/plain": [
       "Loan_ID              0\n",
       "Gender               0\n",
       "Married              0\n",
       "Dependents           0\n",
       "Education            0\n",
       "Self_Employed        0\n",
       "ApplicantIncome      0\n",
       "CoapplicantIncome    0\n",
       "LoanAmount           0\n",
       "Loan_Amount_Term     0\n",
       "Credit_History       0\n",
       "Property_Area        0\n",
       "Loan_Status          0\n",
       "dtype: int64"
      ]
     },
     "execution_count": 9,
     "metadata": {},
     "output_type": "execute_result"
    }
   ],
   "source": [
    "data.isnull().sum()"
   ]
  },
  {
   "cell_type": "markdown",
   "metadata": {},
   "source": [
    "**EXPLORATORY DATA ANALYSIS**"
   ]
  },
  {
   "cell_type": "markdown",
   "metadata": {},
   "source": [
    "Some of the numeric data is skewed\n",
    "Normalize the data"
   ]
  },
  {
   "cell_type": "code",
   "execution_count": 10,
   "metadata": {},
   "outputs": [
    {
     "data": {
      "text/plain": [
       "<seaborn.axisgrid.FacetGrid at 0x6884f13d90>"
      ]
     },
     "execution_count": 10,
     "metadata": {},
     "output_type": "execute_result"
    },
    {
     "data": {
      "image/png": "[encoded data removed]",
      "text/plain": [
       "<Figure size 360x360 with 1 Axes>"
      ]
     },
     "metadata": {
      "needs_background": "light"
     },
     "output_type": "display_data"
    }
   ],
   "source": [
    "data[\"ApplicantIncome_Log\"] = np.log(data[\"ApplicantIncome\"])\n",
    "sns.displot(data[\"ApplicantIncome_Log\"])"
   ]
  },
  {
   "cell_type": "code",
   "execution_count": 11,
   "metadata": {},
   "outputs": [
    {
     "data": {
      "text/plain": [
       "<seaborn.axisgrid.FacetGrid at 0x689af7e880>"
      ]
     },
     "execution_count": 11,
     "metadata": {},
     "output_type": "execute_result"
    },
    {
     "data": {
      "image/png": "[encoded data removed]",
      "text/plain": [
       "<Figure size 360x360 with 1 Axes>"
      ]
     },
     "metadata": {
      "needs_background": "light"
     },
     "output_type": "display_data"
    }
   ],
   "source": [
    "data[\"LoanAmount_Log\"]=np.log(data[\"LoanAmount\"])\n",
    "sns.displot(data[\"LoanAmount_Log\"])"
   ]
  },
  {
   "cell_type": "code",
   "execution_count": 12,
   "metadata": {},
   "outputs": [
    {
     "data": {
      "text/plain": [
       "<seaborn.axisgrid.FacetGrid at 0x689af7e9a0>"
      ]
     },
     "execution_count": 12,
     "metadata": {},
     "output_type": "execute_result"
    },
    {
     "data": {
      "image/png": "[encoded data removed]",
      "text/plain": [
       "<Figure size 360x360 with 1 Axes>"
      ]
     },
     "metadata": {
      "needs_background": "light"
     },
     "output_type": "display_data"
    }
   ],
   "source": [
    "data[\"Loan_Amount_Term_Log\"]=np.log(data[\"Loan_Amount_Term\"])\n",
    "sns.displot(data[\"Loan_Amount_Term_Log\"])"
   ]
  },
  {
   "cell_type": "code",
   "execution_count": 14,
   "metadata": {},
   "outputs": [
    {
     "data": {
      "text/plain": [
       "<seaborn.axisgrid.FacetGrid at 0x68850c1490>"
      ]
     },
     "execution_count": 14,
     "metadata": {},
     "output_type": "execute_result"
    },
    {
     "data": {
      "image/png": "[encoded data removed]",
      "text/plain": [
       "<Figure size 360x360 with 1 Axes>"
      ]
     },
     "metadata": {
      "needs_background": "light"
     },
     "output_type": "display_data"
    }
   ],
   "source": [
    "#Creating a new feature, total_income, a summation of applicant income and coapplicant income\n",
    "data[\"TotalIncome\"]= data[\"ApplicantIncome\"] + data[\"CoapplicantIncome\"]\n",
    "data[\"TotalIncome_Log\"] = np.log(data[\"TotalIncome\"])\n",
    "sns.displot(data[\"TotalIncome_Log\"])"
   ]
  },
  {
   "cell_type": "code",
   "execution_count": 17,
   "metadata": {},
   "outputs": [
    {
     "data": {
      "text/plain": [
       "0"
      ]
     },
     "execution_count": 17,
     "metadata": {},
     "output_type": "execute_result"
    }
   ],
   "source": [
    "#To replace zeros on CoapplicantIncome to allow log transformation\n",
    "data[\"CoapplicantIncome\"]= data[\"CoapplicantIncome\"].replace([0], 1)\n",
    "\n",
    "(data[\"CoapplicantIncome\"]==0).sum()"
   ]
  },
  {
   "cell_type": "code",
   "execution_count": 18,
   "metadata": {},
   "outputs": [
    {
     "data": {
      "text/plain": [
       "<seaborn.axisgrid.FacetGrid at 0x6885080760>"
      ]
     },
     "execution_count": 18,
     "metadata": {},
     "output_type": "execute_result"
    },
    {
     "data": {
      "image/png": "[encoded data removed]",
      "text/plain": [
       "<Figure size 360x360 with 1 Axes>"
      ]
     },
     "metadata": {
      "needs_background": "light"
     },
     "output_type": "display_data"
    }
   ],
   "source": [
    "data[\"CoapplicantIncome_Log\"] = np.log(data[\"CoapplicantIncome\"])\n",
    "sns.displot(data[\"CoapplicantIncome_Log\"])"
   ]
  },
  {
   "cell_type": "code",
   "execution_count": 19,
   "metadata": {},
   "outputs": [
    {
     "data": {
      "text/html": [
       "<div>\n",
       "<style scoped>\n",
       "    .dataframe tbody tr th:only-of-type {\n",
       "        vertical-align: middle;\n",
       "    }\n",
       "\n",
       "    .dataframe tbody tr th {\n",
       "        vertical-align: top;\n",
       "    }\n",
       "\n",
       "    .dataframe thead th {\n",
       "        text-align: right;\n",
       "    }\n",
       "</style>\n",
       "<table border=\"1\" class=\"dataframe\">\n",
       "  <thead>\n",
       "    <tr style=\"text-align: right;\">\n",
       "      <th></th>\n",
       "      <th>ApplicantIncome</th>\n",
       "      <th>CoapplicantIncome</th>\n",
       "      <th>LoanAmount</th>\n",
       "      <th>Loan_Amount_Term</th>\n",
       "      <th>Credit_History</th>\n",
       "      <th>ApplicantIncome_Log</th>\n",
       "      <th>LoanAmount_Log</th>\n",
       "      <th>Loan_Amount_Term_Log</th>\n",
       "      <th>TotalIncome</th>\n",
       "      <th>TotalIncome_Log</th>\n",
       "      <th>CoapplicantIncome_Log</th>\n",
       "    </tr>\n",
       "  </thead>\n",
       "  <tbody>\n",
       "    <tr>\n",
       "      <th>ApplicantIncome</th>\n",
       "      <td>1.000000</td>\n",
       "      <td>-0.116571</td>\n",
       "      <td>0.565620</td>\n",
       "      <td>-0.045242</td>\n",
       "      <td>-0.014477</td>\n",
       "      <td>0.790532</td>\n",
       "      <td>0.434849</td>\n",
       "      <td>-0.024085</td>\n",
       "      <td>0.893037</td>\n",
       "      <td>0.717829</td>\n",
       "      <td>-0.250416</td>\n",
       "    </tr>\n",
       "    <tr>\n",
       "      <th>CoapplicantIncome</th>\n",
       "      <td>-0.116571</td>\n",
       "      <td>1.000000</td>\n",
       "      <td>0.187842</td>\n",
       "      <td>-0.059684</td>\n",
       "      <td>-0.001666</td>\n",
       "      <td>-0.237856</td>\n",
       "      <td>0.204179</td>\n",
       "      <td>-0.042948</td>\n",
       "      <td>0.342813</td>\n",
       "      <td>0.383843</td>\n",
       "      <td>0.573564</td>\n",
       "    </tr>\n",
       "    <tr>\n",
       "      <th>LoanAmount</th>\n",
       "      <td>0.565620</td>\n",
       "      <td>0.187842</td>\n",
       "      <td>1.000000</td>\n",
       "      <td>0.038801</td>\n",
       "      <td>-0.007738</td>\n",
       "      <td>0.551556</td>\n",
       "      <td>0.895324</td>\n",
       "      <td>0.044905</td>\n",
       "      <td>0.620102</td>\n",
       "      <td>0.687552</td>\n",
       "      <td>0.047553</td>\n",
       "    </tr>\n",
       "    <tr>\n",
       "      <th>Loan_Amount_Term</th>\n",
       "      <td>-0.045242</td>\n",
       "      <td>-0.059684</td>\n",
       "      <td>0.038801</td>\n",
       "      <td>1.000000</td>\n",
       "      <td>0.001395</td>\n",
       "      <td>-0.030739</td>\n",
       "      <td>0.086531</td>\n",
       "      <td>0.938871</td>\n",
       "      <td>-0.069830</td>\n",
       "      <td>-0.055320</td>\n",
       "      <td>0.013604</td>\n",
       "    </tr>\n",
       "    <tr>\n",
       "      <th>Credit_History</th>\n",
       "      <td>-0.014477</td>\n",
       "      <td>-0.001666</td>\n",
       "      <td>-0.007738</td>\n",
       "      <td>0.001395</td>\n",
       "      <td>1.000000</td>\n",
       "      <td>0.019169</td>\n",
       "      <td>-0.025248</td>\n",
       "      <td>-0.007860</td>\n",
       "      <td>-0.014447</td>\n",
       "      <td>0.019156</td>\n",
       "      <td>0.002367</td>\n",
       "    </tr>\n",
       "    <tr>\n",
       "      <th>ApplicantIncome_Log</th>\n",
       "      <td>0.790532</td>\n",
       "      <td>-0.237856</td>\n",
       "      <td>0.551556</td>\n",
       "      <td>-0.030739</td>\n",
       "      <td>0.019169</td>\n",
       "      <td>1.000000</td>\n",
       "      <td>0.491066</td>\n",
       "      <td>-0.014618</td>\n",
       "      <td>0.639953</td>\n",
       "      <td>0.740300</td>\n",
       "      <td>-0.368224</td>\n",
       "    </tr>\n",
       "    <tr>\n",
       "      <th>LoanAmount_Log</th>\n",
       "      <td>0.434849</td>\n",
       "      <td>0.204179</td>\n",
       "      <td>0.895324</td>\n",
       "      <td>0.086531</td>\n",
       "      <td>-0.025248</td>\n",
       "      <td>0.491066</td>\n",
       "      <td>1.000000</td>\n",
       "      <td>0.084534</td>\n",
       "      <td>0.503817</td>\n",
       "      <td>0.657507</td>\n",
       "      <td>0.131021</td>\n",
       "    </tr>\n",
       "    <tr>\n",
       "      <th>Loan_Amount_Term_Log</th>\n",
       "      <td>-0.024085</td>\n",
       "      <td>-0.042948</td>\n",
       "      <td>0.044905</td>\n",
       "      <td>0.938871</td>\n",
       "      <td>-0.007860</td>\n",
       "      <td>-0.014618</td>\n",
       "      <td>0.084534</td>\n",
       "      <td>1.000000</td>\n",
       "      <td>-0.042237</td>\n",
       "      <td>-0.029522</td>\n",
       "      <td>0.012673</td>\n",
       "    </tr>\n",
       "    <tr>\n",
       "      <th>TotalIncome</th>\n",
       "      <td>0.893037</td>\n",
       "      <td>0.342813</td>\n",
       "      <td>0.620102</td>\n",
       "      <td>-0.069830</td>\n",
       "      <td>-0.014447</td>\n",
       "      <td>0.639953</td>\n",
       "      <td>0.503817</td>\n",
       "      <td>-0.042237</td>\n",
       "      <td>1.000000</td>\n",
       "      <td>0.852873</td>\n",
       "      <td>0.023061</td>\n",
       "    </tr>\n",
       "    <tr>\n",
       "      <th>TotalIncome_Log</th>\n",
       "      <td>0.717829</td>\n",
       "      <td>0.383843</td>\n",
       "      <td>0.687552</td>\n",
       "      <td>-0.055320</td>\n",
       "      <td>0.019156</td>\n",
       "      <td>0.740300</td>\n",
       "      <td>0.657507</td>\n",
       "      <td>-0.029522</td>\n",
       "      <td>0.852873</td>\n",
       "      <td>1.000000</td>\n",
       "      <td>0.149139</td>\n",
       "    </tr>\n",
       "    <tr>\n",
       "      <th>CoapplicantIncome_Log</th>\n",
       "      <td>-0.250416</td>\n",
       "      <td>0.573564</td>\n",
       "      <td>0.047553</td>\n",
       "      <td>0.013604</td>\n",
       "      <td>0.002367</td>\n",
       "      <td>-0.368224</td>\n",
       "      <td>0.131021</td>\n",
       "      <td>0.012673</td>\n",
       "      <td>0.023061</td>\n",
       "      <td>0.149139</td>\n",
       "      <td>1.000000</td>\n",
       "    </tr>\n",
       "  </tbody>\n",
       "</table>\n",
       "</div>"
      ],
      "text/plain": [
       "                       ApplicantIncome  CoapplicantIncome  LoanAmount  \\\n",
       "ApplicantIncome               1.000000          -0.116571    0.565620   \n",
       "CoapplicantIncome            -0.116571           1.000000    0.187842   \n",
       "LoanAmount                    0.565620           0.187842    1.000000   \n",
       "Loan_Amount_Term             -0.045242          -0.059684    0.038801   \n",
       "Credit_History               -0.014477          -0.001666   -0.007738   \n",
       "ApplicantIncome_Log           0.790532          -0.237856    0.551556   \n",
       "LoanAmount_Log                0.434849           0.204179    0.895324   \n",
       "Loan_Amount_Term_Log         -0.024085          -0.042948    0.044905   \n",
       "TotalIncome                   0.893037           0.342813    0.620102   \n",
       "TotalIncome_Log               0.717829           0.383843    0.687552   \n",
       "CoapplicantIncome_Log        -0.250416           0.573564    0.047553   \n",
       "\n",
       "                       Loan_Amount_Term  Credit_History  ApplicantIncome_Log  \\\n",
       "ApplicantIncome               -0.045242       -0.014477             0.790532   \n",
       "CoapplicantIncome             -0.059684       -0.001666            -0.237856   \n",
       "LoanAmount                     0.038801       -0.007738             0.551556   \n",
       "Loan_Amount_Term               1.000000        0.001395            -0.030739   \n",
       "Credit_History                 0.001395        1.000000             0.019169   \n",
       "ApplicantIncome_Log           -0.030739        0.019169             1.000000   \n",
       "LoanAmount_Log                 0.086531       -0.025248             0.491066   \n",
       "Loan_Amount_Term_Log           0.938871       -0.007860            -0.014618   \n",
       "TotalIncome                   -0.069830       -0.014447             0.639953   \n",
       "TotalIncome_Log               -0.055320        0.019156             0.740300   \n",
       "CoapplicantIncome_Log          0.013604        0.002367            -0.368224   \n",
       "\n",
       "                       LoanAmount_Log  Loan_Amount_Term_Log  TotalIncome  \\\n",
       "ApplicantIncome              0.434849             -0.024085     0.893037   \n",
       "CoapplicantIncome            0.204179             -0.042948     0.342813   \n",
       "LoanAmount                   0.895324              0.044905     0.620102   \n",
       "Loan_Amount_Term             0.086531              0.938871    -0.069830   \n",
       "Credit_History              -0.025248             -0.007860    -0.014447   \n",
       "ApplicantIncome_Log          0.491066             -0.014618     0.639953   \n",
       "LoanAmount_Log               1.000000              0.084534     0.503817   \n",
       "Loan_Amount_Term_Log         0.084534              1.000000    -0.042237   \n",
       "TotalIncome                  0.503817             -0.042237     1.000000   \n",
       "TotalIncome_Log              0.657507             -0.029522     0.852873   \n",
       "CoapplicantIncome_Log        0.131021              0.012673     0.023061   \n",
       "\n",
       "                       TotalIncome_Log  CoapplicantIncome_Log  \n",
       "ApplicantIncome               0.717829              -0.250416  \n",
       "CoapplicantIncome             0.383843               0.573564  \n",
       "LoanAmount                    0.687552               0.047553  \n",
       "Loan_Amount_Term             -0.055320               0.013604  \n",
       "Credit_History                0.019156               0.002367  \n",
       "ApplicantIncome_Log           0.740300              -0.368224  \n",
       "LoanAmount_Log                0.657507               0.131021  \n",
       "Loan_Amount_Term_Log         -0.029522               0.012673  \n",
       "TotalIncome                   0.852873               0.023061  \n",
       "TotalIncome_Log               1.000000               0.149139  \n",
       "CoapplicantIncome_Log         0.149139               1.000000  "
      ]
     },
     "execution_count": 19,
     "metadata": {},
     "output_type": "execute_result"
    }
   ],
   "source": [
    "data.corr()"
   ]
  },
  {
   "cell_type": "markdown",
   "metadata": {},
   "source": [
    "**ENCODING**"
   ]
  },
  {
   "cell_type": "code",
   "execution_count": 20,
   "metadata": {},
   "outputs": [],
   "source": [
    "from sklearn.preprocessing import LabelEncoder\n",
    "cols = ['Gender','Married','Education','Self_Employed','Property_Area','Loan_Status','Dependents']\n",
    "le = LabelEncoder()\n",
    "for col in cols:\n",
    "    data[col] = le.fit_transform(data[col])"
   ]
  },
  {
   "cell_type": "code",
   "execution_count": 31,
   "metadata": {},
   "outputs": [],
   "source": [
    "import pickle\n",
    "filehandler = open(\"le.pkl\", \"wb\")\n",
    "pickle.dump(le, filehandler)\n",
    "filehandler.close()"
   ]
  },
  {
   "cell_type": "code",
   "execution_count": 32,
   "metadata": {},
   "outputs": [
    {
     "data": {
      "text/html": [
       "<div>\n",
       "<style scoped>\n",
       "    .dataframe tbody tr th:only-of-type {\n",
       "        vertical-align: middle;\n",
       "    }\n",
       "\n",
       "    .dataframe tbody tr th {\n",
       "        vertical-align: top;\n",
       "    }\n",
       "\n",
       "    .dataframe thead th {\n",
       "        text-align: right;\n",
       "    }\n",
       "</style>\n",
       "<table border=\"1\" class=\"dataframe\">\n",
       "  <thead>\n",
       "    <tr style=\"text-align: right;\">\n",
       "      <th></th>\n",
       "      <th>Loan_ID</th>\n",
       "      <th>Gender</th>\n",
       "      <th>Married</th>\n",
       "      <th>Dependents</th>\n",
       "      <th>Education</th>\n",
       "      <th>Self_Employed</th>\n",
       "      <th>ApplicantIncome</th>\n",
       "      <th>CoapplicantIncome</th>\n",
       "      <th>LoanAmount</th>\n",
       "      <th>Loan_Amount_Term</th>\n",
       "      <th>Credit_History</th>\n",
       "      <th>Property_Area</th>\n",
       "      <th>Loan_Status</th>\n",
       "      <th>ApplicantIncome_Log</th>\n",
       "      <th>LoanAmount_Log</th>\n",
       "      <th>Loan_Amount_Term_Log</th>\n",
       "      <th>TotalIncome</th>\n",
       "      <th>TotalIncome_Log</th>\n",
       "      <th>CoapplicantIncome_Log</th>\n",
       "    </tr>\n",
       "  </thead>\n",
       "  <tbody>\n",
       "    <tr>\n",
       "      <th>0</th>\n",
       "      <td>LP001002</td>\n",
       "      <td>1</td>\n",
       "      <td>0</td>\n",
       "      <td>0</td>\n",
       "      <td>0</td>\n",
       "      <td>0</td>\n",
       "      <td>5849</td>\n",
       "      <td>1.0</td>\n",
       "      <td>146.412162</td>\n",
       "      <td>360.0</td>\n",
       "      <td>1.0</td>\n",
       "      <td>2</td>\n",
       "      <td>1</td>\n",
       "      <td>8.674026</td>\n",
       "      <td>4.986426</td>\n",
       "      <td>5.886104</td>\n",
       "      <td>5849.0</td>\n",
       "      <td>8.674026</td>\n",
       "      <td>0.000000</td>\n",
       "    </tr>\n",
       "    <tr>\n",
       "      <th>1</th>\n",
       "      <td>LP001003</td>\n",
       "      <td>1</td>\n",
       "      <td>1</td>\n",
       "      <td>1</td>\n",
       "      <td>0</td>\n",
       "      <td>0</td>\n",
       "      <td>4583</td>\n",
       "      <td>1508.0</td>\n",
       "      <td>128.000000</td>\n",
       "      <td>360.0</td>\n",
       "      <td>1.0</td>\n",
       "      <td>0</td>\n",
       "      <td>0</td>\n",
       "      <td>8.430109</td>\n",
       "      <td>4.852030</td>\n",
       "      <td>5.886104</td>\n",
       "      <td>6091.0</td>\n",
       "      <td>8.714568</td>\n",
       "      <td>7.318540</td>\n",
       "    </tr>\n",
       "    <tr>\n",
       "      <th>2</th>\n",
       "      <td>LP001005</td>\n",
       "      <td>1</td>\n",
       "      <td>1</td>\n",
       "      <td>0</td>\n",
       "      <td>0</td>\n",
       "      <td>1</td>\n",
       "      <td>3000</td>\n",
       "      <td>1.0</td>\n",
       "      <td>66.000000</td>\n",
       "      <td>360.0</td>\n",
       "      <td>1.0</td>\n",
       "      <td>2</td>\n",
       "      <td>1</td>\n",
       "      <td>8.006368</td>\n",
       "      <td>4.189655</td>\n",
       "      <td>5.886104</td>\n",
       "      <td>3000.0</td>\n",
       "      <td>8.006368</td>\n",
       "      <td>0.000000</td>\n",
       "    </tr>\n",
       "    <tr>\n",
       "      <th>3</th>\n",
       "      <td>LP001006</td>\n",
       "      <td>1</td>\n",
       "      <td>1</td>\n",
       "      <td>0</td>\n",
       "      <td>1</td>\n",
       "      <td>0</td>\n",
       "      <td>2583</td>\n",
       "      <td>2358.0</td>\n",
       "      <td>120.000000</td>\n",
       "      <td>360.0</td>\n",
       "      <td>1.0</td>\n",
       "      <td>2</td>\n",
       "      <td>1</td>\n",
       "      <td>7.856707</td>\n",
       "      <td>4.787492</td>\n",
       "      <td>5.886104</td>\n",
       "      <td>4941.0</td>\n",
       "      <td>8.505323</td>\n",
       "      <td>7.765569</td>\n",
       "    </tr>\n",
       "    <tr>\n",
       "      <th>4</th>\n",
       "      <td>LP001008</td>\n",
       "      <td>1</td>\n",
       "      <td>0</td>\n",
       "      <td>0</td>\n",
       "      <td>0</td>\n",
       "      <td>0</td>\n",
       "      <td>6000</td>\n",
       "      <td>1.0</td>\n",
       "      <td>141.000000</td>\n",
       "      <td>360.0</td>\n",
       "      <td>1.0</td>\n",
       "      <td>2</td>\n",
       "      <td>1</td>\n",
       "      <td>8.699515</td>\n",
       "      <td>4.948760</td>\n",
       "      <td>5.886104</td>\n",
       "      <td>6000.0</td>\n",
       "      <td>8.699515</td>\n",
       "      <td>0.000000</td>\n",
       "    </tr>\n",
       "  </tbody>\n",
       "</table>\n",
       "</div>"
      ],
      "text/plain": [
       "    Loan_ID  Gender  Married  Dependents  Education  Self_Employed  \\\n",
       "0  LP001002       1        0           0          0              0   \n",
       "1  LP001003       1        1           1          0              0   \n",
       "2  LP001005       1        1           0          0              1   \n",
       "3  LP001006       1        1           0          1              0   \n",
       "4  LP001008       1        0           0          0              0   \n",
       "\n",
       "   ApplicantIncome  CoapplicantIncome  LoanAmount  Loan_Amount_Term  \\\n",
       "0             5849                1.0  146.412162             360.0   \n",
       "1             4583             1508.0  128.000000             360.0   \n",
       "2             3000                1.0   66.000000             360.0   \n",
       "3             2583             2358.0  120.000000             360.0   \n",
       "4             6000                1.0  141.000000             360.0   \n",
       "\n",
       "   Credit_History  Property_Area  Loan_Status  ApplicantIncome_Log  \\\n",
       "0             1.0              2            1             8.674026   \n",
       "1             1.0              0            0             8.430109   \n",
       "2             1.0              2            1             8.006368   \n",
       "3             1.0              2            1             7.856707   \n",
       "4             1.0              2            1             8.699515   \n",
       "\n",
       "   LoanAmount_Log  Loan_Amount_Term_Log  TotalIncome  TotalIncome_Log  \\\n",
       "0        4.986426              5.886104       5849.0         8.674026   \n",
       "1        4.852030              5.886104       6091.0         8.714568   \n",
       "2        4.189655              5.886104       3000.0         8.006368   \n",
       "3        4.787492              5.886104       4941.0         8.505323   \n",
       "4        4.948760              5.886104       6000.0         8.699515   \n",
       "\n",
       "   CoapplicantIncome_Log  \n",
       "0               0.000000  \n",
       "1               7.318540  \n",
       "2               0.000000  \n",
       "3               7.765569  \n",
       "4               0.000000  "
      ]
     },
     "execution_count": 32,
     "metadata": {},
     "output_type": "execute_result"
    }
   ],
   "source": [
    "data.head()"
   ]
  },
  {
   "cell_type": "markdown",
   "metadata": {},
   "source": [
    "**SPLITTING THE DATA INTO TRAIN AND TEST**"
   ]
  },
  {
   "cell_type": "code",
   "execution_count": 33,
   "metadata": {},
   "outputs": [],
   "source": [
    "#SPECIFY INPUT AND OUTPUT ATTRIBUTES AND DROP THE TARGET\n",
    "X= data.drop(columns=['Loan_Status'], axis=1)\n",
    "X= data.drop(columns=['Loan_ID'], axis=1)\n",
    "y= data['Loan_Status']"
   ]
  },
  {
   "cell_type": "code",
   "execution_count": 34,
   "metadata": {},
   "outputs": [],
   "source": [
    "X = data.iloc[:, 1:12].values\n",
    "y = data.iloc[:, 12].values"
   ]
  },
  {
   "cell_type": "code",
   "execution_count": 35,
   "metadata": {},
   "outputs": [],
   "source": [
    "from sklearn.model_selection import train_test_split\n",
    "x_train, x_test, y_train, y_test= train_test_split(X, y, test_size=0.25, random_state=42)"
   ]
  },
  {
   "cell_type": "markdown",
   "metadata": {},
   "source": [
    "FEATURE SCALING \n",
    "\n",
    "For features spanning varying degrees in our data."
   ]
  },
  {
   "cell_type": "code",
   "execution_count": 36,
   "metadata": {},
   "outputs": [],
   "source": [
    "from sklearn.preprocessing import StandardScaler\n",
    "sc = StandardScaler()\n",
    "x_train = sc.fit_transform(x_train)\n",
    "x_test = sc.fit_transform(x_test)"
   ]
  },
  {
   "cell_type": "code",
   "execution_count": 37,
   "metadata": {},
   "outputs": [],
   "source": [
    "#Applying PCA\n",
    "from sklearn.decomposition import PCA\n",
    "pca = PCA(n_components=2)\n",
    "x_train = pca.fit_transform(x_train)\n",
    "x_test = pca.fit_transform(x_test)\n",
    "explained_variance = pca.explained_variance_ratio_"
   ]
  },
  {
   "cell_type": "code",
   "execution_count": 38,
   "metadata": {},
   "outputs": [],
   "source": [
    "#Classifying the function\n",
    "from sklearn.model_selection import cross_val_score\n",
    "def classify(classifier, x, y):\n",
    "    x_train, x_test, y_train, y_test = train_test_split(X, y, test_size=0.25, random_state=42)\n",
    "    classifier.fit(x_train, y_train)\n",
    "    print('Accuracy is', classifier.score(x_test, y_test)*100)\n",
    "    \n",
    "    score = cross_val_score(classifier, x, y, cv=5)\n",
    "    print('Cross validation is', np.mean(score)*100)\n",
    "    "
   ]
  },
  {
   "cell_type": "code",
   "execution_count": 39,
   "metadata": {},
   "outputs": [
    {
     "name": "stderr",
     "output_type": "stream",
     "text": [
      "C:\\Users\\Mukiri\\anaconda3\\lib\\site-packages\\sklearn\\linear_model\\_logistic.py:763: ConvergenceWarning: lbfgs failed to converge (status=1):\n",
      "STOP: TOTAL NO. of ITERATIONS REACHED LIMIT.\n",
      "\n",
      "Increase the number of iterations (max_iter) or scale the data as shown in:\n",
      "    https://scikit-learn.org/stable/modules/preprocessing.html\n",
      "Please also refer to the documentation for alternative solver options:\n",
      "    https://scikit-learn.org/stable/modules/linear_model.html#logistic-regression\n",
      "  n_iter_i = _check_optimize_result(\n",
      "C:\\Users\\Mukiri\\anaconda3\\lib\\site-packages\\sklearn\\linear_model\\_logistic.py:763: ConvergenceWarning: lbfgs failed to converge (status=1):\n",
      "STOP: TOTAL NO. of ITERATIONS REACHED LIMIT.\n",
      "\n",
      "Increase the number of iterations (max_iter) or scale the data as shown in:\n",
      "    https://scikit-learn.org/stable/modules/preprocessing.html\n",
      "Please also refer to the documentation for alternative solver options:\n",
      "    https://scikit-learn.org/stable/modules/linear_model.html#logistic-regression\n",
      "  n_iter_i = _check_optimize_result(\n"
     ]
    },
    {
     "name": "stdout",
     "output_type": "stream",
     "text": [
      "Accuracy is 77.92207792207793\n"
     ]
    },
    {
     "name": "stderr",
     "output_type": "stream",
     "text": [
      "C:\\Users\\Mukiri\\anaconda3\\lib\\site-packages\\sklearn\\linear_model\\_logistic.py:763: ConvergenceWarning: lbfgs failed to converge (status=1):\n",
      "STOP: TOTAL NO. of ITERATIONS REACHED LIMIT.\n",
      "\n",
      "Increase the number of iterations (max_iter) or scale the data as shown in:\n",
      "    https://scikit-learn.org/stable/modules/preprocessing.html\n",
      "Please also refer to the documentation for alternative solver options:\n",
      "    https://scikit-learn.org/stable/modules/linear_model.html#logistic-regression\n",
      "  n_iter_i = _check_optimize_result(\n",
      "C:\\Users\\Mukiri\\anaconda3\\lib\\site-packages\\sklearn\\linear_model\\_logistic.py:763: ConvergenceWarning: lbfgs failed to converge (status=1):\n",
      "STOP: TOTAL NO. of ITERATIONS REACHED LIMIT.\n",
      "\n",
      "Increase the number of iterations (max_iter) or scale the data as shown in:\n",
      "    https://scikit-learn.org/stable/modules/preprocessing.html\n",
      "Please also refer to the documentation for alternative solver options:\n",
      "    https://scikit-learn.org/stable/modules/linear_model.html#logistic-regression\n",
      "  n_iter_i = _check_optimize_result(\n"
     ]
    },
    {
     "name": "stdout",
     "output_type": "stream",
     "text": [
      "Cross validation is 80.29454884712781\n"
     ]
    }
   ],
   "source": [
    "from sklearn.linear_model import LogisticRegression\n",
    "classifier = LogisticRegression()\n",
    "classify(classifier, X, y)"
   ]
  },
  {
   "cell_type": "code",
   "execution_count": 40,
   "metadata": {},
   "outputs": [],
   "source": [
    "import pickle\n",
    "pickle.dump(classifier, open('mdl.pkl','wb'))"
   ]
  },
  {
   "cell_type": "code",
   "execution_count": 43,
   "metadata": {},
   "outputs": [],
   "source": [
    "#input\n",
    "Gender = 'Male'\n",
    "Married = 'Yes'\n",
    "Education = 'Graduate'\n",
    "Self_Employed = 'Yes'\n",
    "Property_Area = 'Urban'\n",
    "Dependents = 1\n",
    "ApplicantIncome = 30000\n",
    "CoapplicantIncome = 10000\n",
    "LoanAmount = 50000\n",
    "Loan_Amount_Term = 360\n",
    "Credit_History = 1.0\n",
    "\n"
   ]
  },
  {
   "cell_type": "code",
   "execution_count": 44,
   "metadata": {},
   "outputs": [],
   "source": [
    "Gender_to_int = {'Male':1, 'Female':0}\n",
    "Married_to_int = {'Yes':1, 'No':0}\n",
    "Education_to_int = {'Graduate':1, 'Not Graduate':0}\n",
    "Self_Employed_to_int = {'Yes':1, 'No':0}\n",
    "Property_Area_to_int = {'Urban':1, 'Rural':0}"
   ]
  },
  {
   "cell_type": "code",
   "execution_count": 45,
   "metadata": {},
   "outputs": [],
   "source": [
    "feature_list=['Gender', 'Married', 'Education', 'Self_Employed', 'Property_Area', 'Dependents', 'ApplicantIncome', 'CoapplicantIncome', 'LoanAmount', 'Loan_Amount_Term', 'Credit_History']"
   ]
  },
  {
   "cell_type": "code",
   "execution_count": 47,
   "metadata": {},
   "outputs": [],
   "source": [
    "temp = pd.DataFrame(index=[1])\n",
    "temp['Gender']=Gender_to_int[Gender]\n",
    "temp['Married']=Married_to_int[Married]\n",
    "temp['Education']=Education_to_int[Education]\n",
    "temp['Self_Employed']=Self_Employed_to_int[Self_Employed]\n",
    "temp['Property_Area']=Property_Area_to_int[Property_Area]\n",
    "temp['Dependents']=Dependents\n",
    "temp['ApplicantIncome']=ApplicantIncome\n",
    "temp['CoapplicantIncome']=CoapplicantIncome\n",
    "temp['LoanAmount']=LoanAmount\n",
    "temp['Loan_Amount_Term']=Loan_Amount_Term\n",
    "temp['Credit_History']=Credit_History"
   ]
  },
  {
   "cell_type": "code",
   "execution_count": 48,
   "metadata": {},
   "outputs": [
    {
     "data": {
      "text/html": [
       "<div>\n",
       "<style scoped>\n",
       "    .dataframe tbody tr th:only-of-type {\n",
       "        vertical-align: middle;\n",
       "    }\n",
       "\n",
       "    .dataframe tbody tr th {\n",
       "        vertical-align: top;\n",
       "    }\n",
       "\n",
       "    .dataframe thead th {\n",
       "        text-align: right;\n",
       "    }\n",
       "</style>\n",
       "<table border=\"1\" class=\"dataframe\">\n",
       "  <thead>\n",
       "    <tr style=\"text-align: right;\">\n",
       "      <th></th>\n",
       "      <th>Gender</th>\n",
       "      <th>Married</th>\n",
       "      <th>Education</th>\n",
       "      <th>Self_Employed</th>\n",
       "      <th>Property_Area</th>\n",
       "      <th>Dependents</th>\n",
       "      <th>ApplicantIncome</th>\n",
       "      <th>CoapplicantIncome</th>\n",
       "      <th>LoanAmount</th>\n",
       "      <th>Loan_Amount_Term</th>\n",
       "      <th>Credit_History</th>\n",
       "    </tr>\n",
       "  </thead>\n",
       "  <tbody>\n",
       "    <tr>\n",
       "      <th>1</th>\n",
       "      <td>1</td>\n",
       "      <td>1</td>\n",
       "      <td>1</td>\n",
       "      <td>1</td>\n",
       "      <td>1</td>\n",
       "      <td>1</td>\n",
       "      <td>30000</td>\n",
       "      <td>10000</td>\n",
       "      <td>50000</td>\n",
       "      <td>360</td>\n",
       "      <td>1.0</td>\n",
       "    </tr>\n",
       "  </tbody>\n",
       "</table>\n",
       "</div>"
      ],
      "text/plain": [
       "   Gender  Married  Education  Self_Employed  Property_Area  Dependents  \\\n",
       "1       1        1          1              1              1           1   \n",
       "\n",
       "   ApplicantIncome  CoapplicantIncome  LoanAmount  Loan_Amount_Term  \\\n",
       "1            30000              10000       50000               360   \n",
       "\n",
       "   Credit_History  \n",
       "1             1.0  "
      ]
     },
     "execution_count": 48,
     "metadata": {},
     "output_type": "execute_result"
    }
   ],
   "source": [
    "temp"
   ]
  },
  {
   "cell_type": "code",
   "execution_count": 53,
   "metadata": {},
   "outputs": [],
   "source": [
    "model = pickle.load(open('mdl.pkl', 'rb'))"
   ]
  },
  {
   "cell_type": "code",
   "execution_count": 54,
   "metadata": {},
   "outputs": [
    {
     "data": {
      "text/plain": [
       "1"
      ]
     },
     "execution_count": 54,
     "metadata": {},
     "output_type": "execute_result"
    }
   ],
   "source": [
    "classifier.predict(temp)[0]"
   ]
  }
 ],
 "metadata": {
  "kernelspec": {
   "display_name": "Python 3",
   "language": "python",
   "name": "python3"
  },
  "language_info": {
   "codemirror_mode": {
    "name": "ipython",
    "version": 3
   },
   "file_extension": ".py",
   "mimetype": "text/x-python",
   "name": "python",
   "nbconvert_exporter": "python",
   "pygments_lexer": "ipython3",
   "version": "3.8.5"
  }
 },
 "nbformat": 4,
 "nbformat_minor": 4
}
